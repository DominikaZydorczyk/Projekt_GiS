{
 "cells": [
  {
   "cell_type": "code",
   "execution_count": 14,
   "id": "a9d52cd3-0635-493a-9a1d-1e91d08494ba",
   "metadata": {},
   "outputs": [
    {
     "name": "stdout",
     "output_type": "stream",
     "text": [
      "Dane zostały zapisane do pliku extended_celestial_edges_2.csv. Zaimportuj go, aby przeanalizować graf.\n"
     ]
    }
   ],
   "source": [
    "stars = [\"Słońce\"]\n",
    "planets = [\"Merkury\", \"Wenus\", \"Ziemia\", \"Mars\", \"Jowisz\", \"Saturn\", \"Uran\", \"Neptun\"]\n",
    "moons = [\"Księżyc\", \"Io\", \"Europa\", \"Ganimedes\", \"Kalisto\", \"Titan\", \"Enceladus\", \"Triton\", \"Charon\"]\n",
    "astroids = [\"Ceres\", \"Pallas\", \"Vesta\", \"Hygiea\"]\n",
    "dwarf_planets = [\"Pluton\", \"Haumea\", \"Makemake\", \"Eris\"]\n",
    "bodies = (\n",
    "    [{\"name\": name, \"type\": \"Star\"} for name in stars] +\n",
    "    [{\"name\": name, \"type\": \"Planet\"} for name in planets] +\n",
    "    [{\"name\": name, \"type\": \"Moon\"} for name in moons] +\n",
    "    [{\"name\": name, \"type\": \"Asteroid\"} for name in astroids] +\n",
    "    [{\"name\": name, \"type\": \"Dwarf Planet\"} for name in dwarf_planets]\n",
    ")\n",
    "\n",
    "while len(bodies) < 100:\n",
    "    bodies.append({\"name\": f\"Asteroid-{len(bodies)}\", \"type\": \"Asteroid\"})\n",
    "relations = []\n",
    "relation_types = [\"Orbita\", \"Exploration\", \"Gravitational Interaction\", \"Data Exchange\"]\n",
    "\n",
    "for _ in range(200):\n",
    "    source = random.choice(bodies)[\"name\"]\n",
    "    target = random.choice(bodies)[\"name\"]\n",
    "    while source == target: \n",
    "        target = random.choice(bodies)[\"name\"]\n",
    "    relation_type = random.choice(relation_types)\n",
    "    weight = random.randint(1, 100)\n",
    "    relations.append({\"Source\": source, \"Target\": target, \"Relation\": relation_type, \"Weight\": weight})\n",
    "relations_df = pd.DataFrame(relations)\n",
    "output_path = \"extended_celestial_edges_2.csv\"\n",
    "relations_df.to_csv(output_path, index=False)"
   ]
  },
  {
   "cell_type": "code",
   "execution_count": null,
   "id": "3da898f4-5dce-4626-9af7-a3bdf73bd4f9",
   "metadata": {},
   "outputs": [],
   "source": []
  }
 ],
 "metadata": {
  "kernelspec": {
   "display_name": "Python 3 (ipykernel)",
   "language": "python",
   "name": "python3"
  },
  "language_info": {
   "codemirror_mode": {
    "name": "ipython",
    "version": 3
   },
   "file_extension": ".py",
   "mimetype": "text/x-python",
   "name": "python",
   "nbconvert_exporter": "python",
   "pygments_lexer": "ipython3",
   "version": "3.10.9"
  }
 },
 "nbformat": 4,
 "nbformat_minor": 5
}
